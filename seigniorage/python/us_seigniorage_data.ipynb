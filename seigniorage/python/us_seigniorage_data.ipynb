{
 "cells": [
  {
   "cell_type": "code",
   "execution_count": 1,
   "metadata": {},
   "outputs": [],
   "source": [
    "import pandas as pd\n",
    "import fredpy as fp\n",
    "import numpy as np"
   ]
  },
  {
   "cell_type": "markdown",
   "metadata": {},
   "source": [
    "# US Seigniorage Data\n",
    "\n",
    "Seigniorage is the real value of the change in the monetary base:\n",
    "\n",
    "\\begin{align}\n",
    "\\frac{M_{t}-M_{t-1}}{P_t} & = \\Delta m_t + \\frac{\\pi_t}{1+\\pi_t}m_{t-1}\n",
    "\\end{align}\n",
    "\n",
    "where $\\Delta m_t = m_t - m_{t-1}$ and $\\pi_t = P_t/ P_{t-1} - 1$. The first term on the right-hand side is the revenue from increasing the real monetary base while the seond term is the inflation tax on the existing monetary base.\n",
    "\n",
    "This program downloads from FRED the following data for the US economy:\n",
    "\n",
    "* monetary base (BOGMBASE)\n",
    "* GDP deflator data (A191RD3A086NBEA)\n",
    "\n",
    "The program returns a CSV file with columns containing:\n",
    "\n",
    "* average annual real monetary base (trillions of $)\n",
    "* average annual GDP deflator inflation\n",
    "* change in real monetary base from preceding year for 1960 only\n",
    "* inflation tax from preceding year for 1960 only\n",
    "* total seigniorage for 1960 only\n",
    "\n",
    "The purpose behind providing incomplete columns is to give students a starting point for completing the columns using Excel or a comparable tool.\n",
    "\n",
    "## Download and manage data"
   ]
  },
  {
   "cell_type": "code",
   "execution_count": 2,
   "metadata": {},
   "outputs": [],
   "source": [
    "# Download monetary base and GDP deflator data\n",
    "m_base = fp.series('BOGMBASE')\n",
    "gdp_deflator = fp.series('A191RD3A086NBEA')\n",
    "\n",
    "# Convert monetary base data to annual frequency\n",
    "m_base = m_base.as_frequency('A')\n",
    "\n",
    "# Equalize data ranges for monetary base and GDP deflator data\n",
    "m_base, gdp_deflator = fp.window_equalize([m_base, gdp_deflator])\n",
    "\n",
    "# GDP deflator base year\n",
    "base_year = gdp_deflator.units.split(' ')[-1].split('=')[0]"
   ]
  },
  {
   "cell_type": "code",
   "execution_count": 3,
   "metadata": {},
   "outputs": [],
   "source": [
    "# Construct real monetary base\n",
    "real_m_base = m_base.data/gdp_deflator.data*100/1000/1000\n",
    "\n",
    "# Construct inflation data\n",
    "inflation = (gdp_deflator.data/gdp_deflator.data.shift(1))-1"
   ]
  },
  {
   "cell_type": "markdown",
   "metadata": {},
   "source": [
    "## Save data to csv"
   ]
  },
  {
   "cell_type": "code",
   "execution_count": 4,
   "metadata": {},
   "outputs": [],
   "source": [
    "real_m_base_col_name = 'real monetary base [billions of '+base_year+' dollars]'\n",
    "inflation_col_name = 'GDP deflator inflation'\n",
    "delta_m_base_col_name = 'change in real monetary base [billions of '+base_year+' dollars]'\n",
    "inflation_tax_col_name = 'inflation tax revenue [billions of '+base_year+' dollars]'\n",
    "total_col_name = 'total seigniorage [billions of '+base_year+' dollars]'\n",
    "\n",
    "\n",
    "# Put data into DataFrame\n",
    "df = pd.DataFrame({real_m_base_col_name:real_m_base,inflation_col_name:inflation})\n",
    "\n",
    "# Add single value to second row of the change in real monetary base column\n",
    "df.loc[df.index[1],delta_m_base_col_name] = df.loc[df.index[1],real_m_base_col_name] - df.loc[df.index[0],real_m_base_col_name]\n",
    "\n",
    "# Add single value to second row of the inflation tax revenue column\n",
    "df.loc[df.index[1],inflation_tax_col_name] = 1/(1+1/df.loc[df.index[1],inflation_col_name]) * df.loc[df.index[0],real_m_base_col_name]\n",
    "\n",
    "# Add single value to second row of total seigniorage column\n",
    "df.loc[df.index[1],total_col_name] = df.loc[df.index[1],delta_m_base_col_name] + df.loc[df.index[1],inflation_tax_col_name]\n",
    "\n",
    "# Save to csv\n",
    "df.to_csv('../csv/us_seigniorage_data.csv',index=True)"
   ]
  }
 ],
 "metadata": {
  "kernelspec": {
   "display_name": "Python 3 (ipykernel)",
   "language": "python",
   "name": "python3"
  },
  "language_info": {
   "codemirror_mode": {
    "name": "ipython",
    "version": 3
   },
   "file_extension": ".py",
   "mimetype": "text/x-python",
   "name": "python",
   "nbconvert_exporter": "python",
   "pygments_lexer": "ipython3",
   "version": "3.11.7"
  }
 },
 "nbformat": 4,
 "nbformat_minor": 4
}
