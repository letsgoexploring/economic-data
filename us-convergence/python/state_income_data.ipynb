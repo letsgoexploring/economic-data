{
 "cells": [
  {
   "cell_type": "code",
   "execution_count": 1,
   "metadata": {},
   "outputs": [],
   "source": [
    "import numpy as np\n",
    "import pandas as pd\n",
    "import json\n",
    "from urllib.request import urlopen\n",
    "import os"
   ]
  },
  {
   "cell_type": "markdown",
   "metadata": {},
   "source": [
    "# State Income Data\n",
    "\n",
    "Constructs a data set of real income per capita for the continental United States from 1840 to the present.\n",
    "\n",
    "Nominal income per capita for 1840, 1880, a 1900 were found in Appendix A in \"Interregional Differences in Per Capita Income, Population, and Total Income, 1840-1950\" by Richard Easterlin in <ins>Trends in the American Economy in the Nineteenth Century</ins> (https://www.nber.org/books-and-chapters/trends-american-economy-nineteenth-century).\n",
    "\n",
    "The CPI for 1840, 1880, and 1900 was taken from \"<ins>Bicentennial Edition: Historical Statistics of the United States, Colonial Times to 1970</ins> (https://www.census.gov/library/publications/1975/compendia/hist_stats_colonial-1970.html)\n",
    "\n",
    "\n",
    "Income data from 1929 are obtained from the BEA.\n",
    "\n",
    "## Preliminaries"
   ]
  },
  {
   "cell_type": "code",
   "execution_count": 2,
   "metadata": {},
   "outputs": [],
   "source": [
    "# Import BEA API key or set manually to variable api_key\n",
    "try:\n",
    "    items = os.getcwd().split('/')[:3]\n",
    "    items.append('bea_api_key.txt')\n",
    "    path = '/'.join(items)\n",
    "    with open(path,'r') as api_key_file:\n",
    "        api_key = api_key_file.readline()\n",
    "\n",
    "except:\n",
    "    api_key = None"
   ]
  },
  {
   "cell_type": "code",
   "execution_count": 3,
   "metadata": {},
   "outputs": [],
   "source": [
    "# Dictionary of state abbreviations\n",
    "stateAbbr = {\n",
    "u'Alabama':u'AL',\n",
    "u'Alaska *':u'AK',\n",
    "u'Arizona':u'AZ',\n",
    "u'Arkansas':u'AR',\n",
    "u'California':u'CA',\n",
    "u'Colorado':u'CO',\n",
    "u'Connecticut':u'CT',\n",
    "u'Delaware':u'DE',\n",
    "u'District of Columbia':u'DC',\n",
    "u'Florida':u'FL',\n",
    "u'Georgia':u'GA',\n",
    "u'Hawaii *':u'HI',\n",
    "u'Idaho':u'ID',\n",
    "u'Illinois':u'IL',\n",
    "u'Indiana':u'IN',\n",
    "u'Iowa':u'IA',\n",
    "u'Kansas':u'KS',\n",
    "u'Kentucky':u'KY',\n",
    "u'Louisiana':u'LA',\n",
    "u'Maine':u'ME',\n",
    "u'Maryland':u'MD',\n",
    "u'Massachusetts':u'MA',\n",
    "u'Michigan':u'MI',\n",
    "u'Minnesota':u'MN',\n",
    "u'Mississippi':u'MS',\n",
    "u'Missouri':u'MO',\n",
    "u'Montana':u'MT',\n",
    "u'Nebraska':u'NE',\n",
    "u'Nevada':u'NV',\n",
    "u'New Hampshire':u'NH',\n",
    "u'New Jersey':u'NJ',\n",
    "u'New Mexico':u'NM',\n",
    "u'New York':u'NY',\n",
    "u'North Carolina':u'NC',\n",
    "u'North Dakota':u'ND',\n",
    "u'Ohio':u'OH',\n",
    "u'Oklahoma':u'OK',\n",
    "u'Oregon':u'OR',\n",
    "u'Pennsylvania':u'PA',\n",
    "u'Rhode Island':u'RI',\n",
    "u'South Carolina':u'SC',\n",
    "u'South Dakota':u'SD',\n",
    "u'Tennessee':u'TN',\n",
    "u'Texas':u'TX',\n",
    "u'Utah':u'UT',\n",
    "u'Vermont':u'VT',\n",
    "u'Virginia':u'VA',\n",
    "u'Washington':u'WA',\n",
    "u'West Virginia':u'WV',\n",
    "u'Wisconsin':u'WI',\n",
    "u'Wyoming':u'WY'\n",
    "}\n",
    "\n",
    "# List of states in the US\n",
    "stateList = [s for s in stateAbbr]"
   ]
  },
  {
   "cell_type": "markdown",
   "metadata": {},
   "source": [
    "## Deflator data"
   ]
  },
  {
   "cell_type": "code",
   "execution_count": 4,
   "metadata": {},
   "outputs": [
    {
     "data": {
      "text/plain": [
       "Year\n",
       "1929-01-01    0.08778\n",
       "1930-01-01    0.08457\n",
       "1931-01-01    0.07587\n",
       "1932-01-01    0.06700\n",
       "1933-01-01    0.06514\n",
       "               ...   \n",
       "2020-01-01    1.05361\n",
       "2021-01-01    1.10172\n",
       "2022-01-01    1.18026\n",
       "2023-01-01    1.22273\n",
       "2024-01-01    1.25230\n",
       "Name: price level, Length: 96, dtype: float64"
      ]
     },
     "execution_count": 4,
     "metadata": {},
     "output_type": "execute_result"
    }
   ],
   "source": [
    "# Obtain data from BEA\n",
    "gdp_deflator = urlopen('http://apps.bea.gov/api/data/?UserID='+api_key+'&method=GetData&datasetname=NIPA&TableName=T10109&TableID=13&Frequency=A&Year=X&ResultFormat=JSON&')\n",
    "\n",
    "# Parse result\n",
    "result = gdp_deflator.read().decode('utf-8')\n",
    "json_response = json.loads(result)\n",
    "\n",
    "# Import to DataFrame and organize\n",
    "df = pd.DataFrame(json_response['BEAAPI']['Results']['Data'])\n",
    "df['DataValue'] = df['DataValue'].astype(float)\n",
    "df = df.set_index(['LineDescription',pd.to_datetime(df['TimePeriod'])])\n",
    "df.index.names = ['line description','Year']\n",
    "\n",
    "# Extract price level data\n",
    "data_p = df['DataValue'].loc['Gross domestic product']/100\n",
    "data_p.name = 'price level'\n",
    "data_p = data_p.sort_index()\n",
    "data_p"
   ]
  },
  {
   "cell_type": "code",
   "execution_count": 5,
   "metadata": {},
   "outputs": [],
   "source": [
    "base_year = json_response['BEAAPI']['Results']['Notes'][0]['NoteText'].split('Index numbers, ')[-1].split('=')[0]\n",
    "\n",
    "with open('../csv/state_income_metadata.csv','w') as newfile:\n",
    "    newfile.write(',Values\\n'+'base_year,'+base_year)"
   ]
  },
  {
   "cell_type": "markdown",
   "metadata": {},
   "source": [
    "## Per capita income data"
   ]
  },
  {
   "cell_type": "code",
   "execution_count": 6,
   "metadata": {},
   "outputs": [],
   "source": [
    "# Obtain data from BEA\n",
    "state_y_pc = urlopen('http://apps.bea.gov/api/data/?UserID='+api_key+'&method=GetData&DataSetName=Regional&TableName=SAINC1&LineCode=3&Year=ALL&GeoFips=STATE&ResultFormat=JSON')\n",
    "\n",
    "# Parse result\n",
    "result = state_y_pc.read().decode('utf-8')\n",
    "json_response = json.loads(result)\n",
    "\n",
    "# Import to DataFrame and organize\n",
    "df = pd.DataFrame(json_response['BEAAPI']['Results']['Data'])\n",
    "df.GeoName = df.GeoName.replace(stateAbbr)\n",
    "df = df.set_index(['GeoName',pd.DatetimeIndex(df['TimePeriod'])])\n",
    "df.index.names = ['State','Year']\n",
    "df['DataValue'] = df['DataValue'].replace('(NA)',np.nan)\n",
    "\n",
    "\n",
    "# # Extract income data\n",
    "data_y = df['DataValue'].str.replace(',','').astype(float)\n",
    "data_y.name = 'income'\n",
    "data_y = data_y.unstack('State')\n",
    "data_y = data_y.sort_index()\n",
    "data_y = data_y.divide(data_p,axis=0)\n",
    "data_y = data_y.dropna(how='all')"
   ]
  },
  {
   "cell_type": "markdown",
   "metadata": {},
   "source": [
    "# Load Easterlin's data"
   ]
  },
  {
   "cell_type": "code",
   "execution_count": 7,
   "metadata": {},
   "outputs": [],
   "source": [
    "# Import Easterlin's income data\n",
    "easterlin_data = pd.read_csv('../historic_data/Historical Statistics of the US - Easterlin State Income Data.csv',index_col=0)\n",
    "\n",
    "# Import historic CPI data\n",
    "historic_cpi_data=pd.read_csv('../historic_data/Historical Statistics of the US - cpi.csv',index_col=0)\n",
    "historic_cpi_data = historic_cpi_data/historic_cpi_data.loc[1929]*data_p.loc['1929'].iloc[0]"
   ]
  },
  {
   "cell_type": "code",
   "execution_count": 8,
   "metadata": {},
   "outputs": [],
   "source": [
    "# Construct series for real incomes in 1840, 1880, and 1900\n",
    "df_1840 = easterlin_data['Income per capita - 1840 - A [cur dollars]']/historic_cpi_data.loc[1840].iloc[0]\n",
    "df_1880 = easterlin_data['Income per capita - 1880 [cur dollars]']/historic_cpi_data.loc[1890].iloc[0]\n",
    "df_1900 = easterlin_data['Income per capita - 1900 [cur dollars]']/historic_cpi_data.loc[1900].iloc[0]\n",
    "\n",
    "# Put into a DataFrame and concatenate with previous data beginning in 1929\n",
    "df = pd.DataFrame({pd.to_datetime('1840'):df_1840,pd.to_datetime('1880'):df_1880,pd.to_datetime('1900'):df_1900}).transpose()\n",
    "df = pd.concat([data_y,df]).sort_index()\n",
    "\n",
    "# Replace 0s for Alaska and Hawaii with NaN. \n",
    "df.loc[df['AK']==0,'AK']=np.nan\n",
    "df.loc[df['HI']==0,'HI']=np.nan"
   ]
  },
  {
   "cell_type": "code",
   "execution_count": 9,
   "metadata": {},
   "outputs": [],
   "source": [
    "# Export data to csv\n",
    "series = df.sort_index()\n",
    "# dropCols = [u'AK', u'HI', u'New England', u'Mideast', u'Great Lakes', u'Plains', u'Southeast', u'Southwest', u'Rocky Mountain', u'Far West','Far West *']\n",
    "dropCols = [u'New England', u'Mideast', u'Great Lakes', u'Plains', u'Southeast', u'Southwest', u'Rocky Mountain', u'Far West','Far West *']\n",
    "for c in dropCols:\n",
    "    series = series.drop([c],axis=1)\n",
    "\n",
    "series.to_csv('../csv/state_income_data.csv',na_rep='NaN')"
   ]
  }
 ],
 "metadata": {
  "kernelspec": {
   "display_name": "Python 3 (ipykernel)",
   "language": "python",
   "name": "python3"
  },
  "language_info": {
   "codemirror_mode": {
    "name": "ipython",
    "version": 3
   },
   "file_extension": ".py",
   "mimetype": "text/x-python",
   "name": "python",
   "nbconvert_exporter": "python",
   "pygments_lexer": "ipython3",
   "version": "3.12.7"
  }
 },
 "nbformat": 4,
 "nbformat_minor": 4
}
