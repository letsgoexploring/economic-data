{
 "cells": [
  {
   "cell_type": "markdown",
   "metadata": {},
   "source": [
    "# Download and Manage Data from SIFMA"
   ]
  },
  {
   "cell_type": "code",
   "execution_count": 1,
   "metadata": {},
   "outputs": [],
   "source": [
    "import pandas as pd\n",
    "import requests\n",
    "import shutil\n",
    "import numpy as np\n",
    "import os"
   ]
  },
  {
   "cell_type": "markdown",
   "metadata": {},
   "source": [
    "## US Mortgage-Related and Outstanding"
   ]
  },
  {
   "cell_type": "code",
   "execution_count": 2,
   "metadata": {},
   "outputs": [],
   "source": [
    "# Download Excel file\n",
    "file_url = 'https://www.sifma.org/wp-content/uploads/2017/06/sf-us-mortgage-related-sifma.xls'\n",
    "file_name = file_url.split('/')[-1]\n",
    "\n",
    "r = requests.get(file_url, stream=True)\n",
    "if r.status_code == 200:\n",
    "    with open(file_name, 'wb') as f:\n",
    "        r.raw.decode_content = True\n",
    "        shutil.copyfileobj(r.raw, f)\n",
    "        \n",
    "else:\n",
    "    print(r.status_code)"
   ]
  },
  {
   "cell_type": "markdown",
   "metadata": {},
   "source": [
    "### Mortgage-Related Issuance"
   ]
  },
  {
   "cell_type": "code",
   "execution_count": 3,
   "metadata": {
    "scrolled": false
   },
   "outputs": [],
   "source": [
    "try:\n",
    "    sheet_name='Mortgage-Related Issuance'\n",
    "    df = pd.read_excel(file_name,sheet_name=sheet_name,skiprows=3)\n",
    "    df = df.rename(columns={'Unnamed: 0':'Year',\n",
    "                            'MBS':'MBS Agency',\n",
    "                            'CMO':'CMO Agency ',\n",
    "                            'CMBS':'CMBS Non-Agency',\n",
    "                            'RMBS':'RMBS Non-Agency'})\n",
    "\n",
    "    for i in df.index:\n",
    "        if type(df.loc[i,'Year'])==str:\n",
    "            df.loc[i,'Year']=np.nan\n",
    "\n",
    "    df = df[pd.isna(df['Unnamed: 1'])].drop(columns=['Unnamed: 1','Unnamed: 4','Unnamed: 7']).dropna().set_index('Year')\n",
    "    df.index = df.index.astype(int)\n",
    "\n",
    "    df.to_csv('../csv/'+file_name.split('.')[0]+' - '+sheet_name+'.csv')\n",
    "    \n",
    "except:\n",
    "    print('\"'+file_name+'\" does not exist')"
   ]
  },
  {
   "cell_type": "markdown",
   "metadata": {},
   "source": [
    "### Mortgage-Related Outstanding"
   ]
  },
  {
   "cell_type": "code",
   "execution_count": 4,
   "metadata": {},
   "outputs": [],
   "source": [
    "try:\n",
    "    sheet_name='Mortgage-Related Outstanding'\n",
    "    df = pd.read_excel(file_name,sheet_name=sheet_name,skiprows=4)\n",
    "    df = df.rename(columns={'Y':'Year',\n",
    "                            'CMBS':'CMBS Non-Agency',\n",
    "                            'RMBS':'RMBS Non-Agency'})\n",
    "\n",
    "    for i in df.index:\n",
    "        if type(df.loc[i,'Year'])==str:\n",
    "            df.loc[i,'Year']=np.nan\n",
    "\n",
    "    df = df[pd.isna(df['Q'])].drop(columns=['Q','Unnamed: 4','Unnamed: 7']).dropna().set_index('Year')\n",
    "    df.index = df.index.astype(int)\n",
    "\n",
    "    df.to_csv('../csv/'+file_name.split('.')[0]+' - '+sheet_name+'.csv')\n",
    "                       \n",
    "except:\n",
    "    print('\"'+file_name+'\" does not exist')"
   ]
  },
  {
   "cell_type": "markdown",
   "metadata": {},
   "source": [
    "### Non-Agency Issuance"
   ]
  },
  {
   "cell_type": "code",
   "execution_count": 5,
   "metadata": {},
   "outputs": [],
   "source": [
    "try:\n",
    "    sheet_name='Non-Agency Issuance'\n",
    "    df = pd.read_excel(file_name,sheet_name=sheet_name,skiprows=4)\n",
    "    df = df.rename(columns={'Unnamed: 0':'Year',\n",
    "                            'Conduit/Fusion':'CMBS Conduit/Fusion',\n",
    "                            'Single Asset/Single Borrower':'CMBS Single Asset/Single Borrower',\n",
    "                            'Other':'CMBS Other',\n",
    "                            'Jumbo Prime':'RMBS Jumbo Prime',\n",
    "                            'Nonprime/Subprime':'RMBS Nonprime/Subprime',\n",
    "                            'Resecuritization':'RMBS Resecuritization',\n",
    "                            'Risk Transfer':'RMBS Risk Transfer',\n",
    "                            'Scratch & Dent':'RMBS Scratch & Dent',\n",
    "                            'Single Family Rental':'RMBS Single Family Rental',\n",
    "                            'Other.1':'RMBS Other'})\n",
    "\n",
    "    for i in df.index:\n",
    "        if type(df.loc[i,'Year'])==str:\n",
    "            df.loc[i,'Year']=np.nan\n",
    "\n",
    "    df = df[pd.isna(df['Unnamed: 1'])].drop(columns=['Unnamed: 1','Unnamed: 5','of which are:','Unnamed: 10']).dropna(how='all').set_index('Year')\n",
    "    df.index = df.index.astype(int)\n",
    "\n",
    "    df.to_csv('../csv/'+file_name.split('.')[0]+' - '+sheet_name+'.csv')\n",
    "\n",
    "except:\n",
    "    print('\"'+file_name+'\" does not exist')"
   ]
  },
  {
   "cell_type": "markdown",
   "metadata": {},
   "source": [
    "### Non-Agency Outstanding"
   ]
  },
  {
   "cell_type": "code",
   "execution_count": 6,
   "metadata": {},
   "outputs": [],
   "source": [
    "try:\n",
    "    sheet_name='NonAgency Outstanding'\n",
    "    df = pd.read_excel(file_name,sheet_name=sheet_name,skiprows=4)\n",
    "    df = df.rename(columns={'Conduit/Fusion':'CMBS Conduit/Fusion',\n",
    "                            'Single Asset/Single Buyer':'CMBS Single Asset/Single Buyer',\n",
    "                            'Other':'CMBS Other',\n",
    "                            'Other.1':'Other',\n",
    "                            'Jumbo Prime':'RMBS Jumbo Prime',\n",
    "                            'Nonprime/Subprime':'RMBS Nonprime/Subprime',\n",
    "                            'Resecuritization':'RMBS Resecuritization',\n",
    "                            'Risk Transfer':'RMBS Risk Transfer',\n",
    "                            'Scratch & Dent':'RMBS Scratch & Dent',\n",
    "                            'Single Family Rental':'RMBS Single Family Rental',\n",
    "                            'Other.1':'RMBS Other'})\n",
    "\n",
    "    for i in df.index:\n",
    "        if type(df.loc[i,'Year'])==str:\n",
    "            df.loc[i,'Year']=np.nan\n",
    "\n",
    "    df = df[pd.isna(df['Q'])].drop(columns=['Q','Unnamed: 5','of which are:','Unnamed: 10']).dropna(how='all').set_index('Year')\n",
    "    df.index = df.index.astype(int)\n",
    "\n",
    "    df.to_csv('../csv/'+file_name.split('.')[0]+' - '+sheet_name+'.csv')\n",
    "\n",
    "except:\n",
    "    print('\"'+file_name+'\" does not exist')"
   ]
  },
  {
   "cell_type": "markdown",
   "metadata": {},
   "source": [
    "## US ABS Issuance and Outstanding "
   ]
  },
  {
   "cell_type": "code",
   "execution_count": 7,
   "metadata": {},
   "outputs": [],
   "source": [
    "file_url = 'https://www.sifma.org/wp-content/uploads/2017/06/sf-us-abs-sifma.xls'\n",
    "file_name = file_url.split('/')[-1]\n",
    "\n",
    "r = requests.get(file_url, stream=True)\n",
    "if r.status_code == 200:\n",
    "    with open(file_name, 'wb') as f:\n",
    "        r.raw.decode_content = True\n",
    "        shutil.copyfileobj(r.raw, f)\n",
    "        \n",
    "else:\n",
    "    print(r.status_code)"
   ]
  },
  {
   "cell_type": "markdown",
   "metadata": {},
   "source": [
    "### ABS Issuance"
   ]
  },
  {
   "cell_type": "code",
   "execution_count": 8,
   "metadata": {},
   "outputs": [],
   "source": [
    "try:\n",
    "    sheet_name='ABS Issuance'\n",
    "    df = pd.read_excel(file_name,sheet_name=sheet_name,skiprows=3)\n",
    "\n",
    "    df = df.rename(columns={})\n",
    "\n",
    "    for i in df.index:\n",
    "        if type(df.loc[i,'Year'])==str:\n",
    "            df.loc[i,'Year']=np.nan\n",
    "\n",
    "    df = df[pd.isna(df['Q'])].drop(columns=['Q']).dropna(how='all').set_index('Year')\n",
    "    df.index = df.index.astype(int)\n",
    "\n",
    "    df.to_csv('../csv/'+file_name.split('.')[0]+' - '+sheet_name+'.csv')\n",
    "\n",
    "except:\n",
    "    print('\"'+file_name+'\" does not exist')"
   ]
  },
  {
   "cell_type": "markdown",
   "metadata": {},
   "source": [
    "### ABS Outstanding"
   ]
  },
  {
   "cell_type": "code",
   "execution_count": 9,
   "metadata": {},
   "outputs": [],
   "source": [
    "try:\n",
    "    sheet_name='ABS Outstanding'\n",
    "    df = pd.read_excel(file_name,sheet_name=sheet_name,skiprows=3)\n",
    "\n",
    "    df = df.rename(columns={})\n",
    "\n",
    "    for i in df.index:\n",
    "        if type(df.loc[i,'Year'])==str:\n",
    "            df.loc[i,'Year']=np.nan\n",
    "\n",
    "    df = df[pd.isna(df['Q'])].drop(columns=['Q','Unnamed: 2']).dropna(how='all').set_index('Year')\n",
    "    df.index = df.index.astype(int)\n",
    "\n",
    "    df.to_csv('../csv/'+file_name.split('.')[0]+' - '+sheet_name+'.csv')\n",
    "\n",
    "except:\n",
    "    print('\"'+file_name+'\" does not exist')"
   ]
  },
  {
   "cell_type": "markdown",
   "metadata": {},
   "source": [
    "### USD CDO CLO Outstanding"
   ]
  },
  {
   "cell_type": "code",
   "execution_count": 10,
   "metadata": {},
   "outputs": [],
   "source": [
    "try:\n",
    "    sheet_name='USD CDO CLO Outstanding'\n",
    "    df = pd.read_excel(file_name,sheet_name=sheet_name,skiprows=4)\n",
    "\n",
    "    for i in df.index:\n",
    "        if type(df.loc[i,'Year'])==str:\n",
    "            df.loc[i,'Year']=np.nan\n",
    "\n",
    "    df = df[pd.isna(df['Q'])].drop(columns=['Q','Unnamed: 7']).dropna(how='all').set_index('Year')\n",
    "    df.index = df.index.astype(int)\n",
    "\n",
    "    df.to_csv('../csv/'+file_name.split('.')[0]+' - '+sheet_name+'.csv')\n",
    "\n",
    "except:\n",
    "    print('\"'+file_name+'\" does not exist')"
   ]
  },
  {
   "cell_type": "markdown",
   "metadata": {},
   "source": [
    "## US Bond Market Issuance and Outstanding"
   ]
  },
  {
   "cell_type": "code",
   "execution_count": 11,
   "metadata": {},
   "outputs": [],
   "source": [
    "file_url = 'https://www.sifma.org/wp-content/uploads/2017/06/cm-us-bond-market-sifma.xls'\n",
    "file_name = file_url.split('/')[-1]\n",
    "\n",
    "r = requests.get(file_url, stream=True)\n",
    "if r.status_code == 200:\n",
    "    with open(file_name, 'wb') as f:\n",
    "        r.raw.decode_content = True\n",
    "        shutil.copyfileobj(r.raw, f)\n",
    "        \n",
    "else:\n",
    "    print(r.status_code)"
   ]
  },
  {
   "cell_type": "markdown",
   "metadata": {},
   "source": [
    "### Issuance"
   ]
  },
  {
   "cell_type": "code",
   "execution_count": 12,
   "metadata": {},
   "outputs": [],
   "source": [
    "try:\n",
    "    sheet_name='Issuance'\n",
    "    df = pd.read_excel(file_name,sheet_name=sheet_name,skiprows=3)\n",
    "\n",
    "    for i in df.index:\n",
    "        if type(df.loc[i,'Year'])==str:\n",
    "            df.loc[i,'Year']=np.nan\n",
    "\n",
    "    df = df[pd.isna(df['M'])].drop(columns=['M']).dropna().set_index('Year')\n",
    "    df.index = df.index.astype(int)\n",
    "\n",
    "    df.to_csv('../csv/'+file_name.split('.')[0]+' - '+sheet_name+'.csv')\n",
    "\n",
    "except:\n",
    "    print('\"'+file_name+'\" does not exist')"
   ]
  },
  {
   "cell_type": "markdown",
   "metadata": {},
   "source": [
    "### Outstanding"
   ]
  },
  {
   "cell_type": "code",
   "execution_count": 13,
   "metadata": {},
   "outputs": [],
   "source": [
    "try:\n",
    "    sheet_name='Outstanding'\n",
    "    df = pd.read_excel(file_name,sheet_name=sheet_name,skiprows=3)\n",
    "    df = df.rename(columns={'Unnamed: 0':'Year'})\n",
    "\n",
    "    for i in df.index:\n",
    "        if type(df.loc[i,'Year'])==str:\n",
    "            df.loc[i,'Year']=np.nan\n",
    "\n",
    "    df = df.dropna()\n",
    "    df = df.set_index('Year')\n",
    "    df.index = df.index.astype(int)\n",
    "\n",
    "    df.to_csv('../csv/'+file_name.split('.')[0]+' - '+sheet_name+'.csv')\n",
    "\n",
    "except:\n",
    "    print('\"'+file_name+'\" does not exist')"
   ]
  },
  {
   "cell_type": "markdown",
   "metadata": {},
   "source": [
    "## US Treasury Securities Holders"
   ]
  },
  {
   "cell_type": "code",
   "execution_count": 14,
   "metadata": {},
   "outputs": [],
   "source": [
    "file_url = 'https://www.sifma.org/wp-content/uploads/2017/06/ta-us-treasury-holders-sifma.xls'\n",
    "file_name = file_url.split('/')[-1]\n",
    "\n",
    "r = requests.get(file_url, stream=True)\n",
    "if r.status_code == 200:\n",
    "    with open(file_name, 'wb') as f:\n",
    "        r.raw.decode_content = True\n",
    "        shutil.copyfileobj(r.raw, f)\n",
    "        \n",
    "else:\n",
    "    print(r.status_code)"
   ]
  },
  {
   "cell_type": "code",
   "execution_count": 15,
   "metadata": {
    "scrolled": false
   },
   "outputs": [],
   "source": [
    "try:\n",
    "    sheet_name='US Treasury Holders'\n",
    "    df = pd.read_excel(file_name,sheet_name=sheet_name,skiprows=4)\n",
    "\n",
    "    new_names = []\n",
    "    df = df.rename(columns={'Unnamed: 0':'Year'})\n",
    "\n",
    "    for i in df.index:\n",
    "        if type(df.loc[i,'Year'])==str:\n",
    "            df.loc[i,'Year']=np.nan\n",
    "\n",
    "    df = df.drop(columns='Unnamed: 11').dropna()\n",
    "\n",
    "    for c in df.columns:\n",
    "        new_names.append(''.join([i for i in c if not i.isdigit()]))\n",
    "\n",
    "    df.columns = new_names\n",
    "    df = df.set_index('Year')\n",
    "    df.index = df.index.astype(int)\n",
    "\n",
    "    df.to_csv('../csv/'+file_name.split('.')[0]+' - '+sheet_name+'.csv')\n",
    "\n",
    "except:\n",
    "    print('\"'+file_name+'\" does not exist')"
   ]
  },
  {
   "cell_type": "markdown",
   "metadata": {},
   "source": [
    "## Global CDO"
   ]
  },
  {
   "cell_type": "code",
   "execution_count": 16,
   "metadata": {},
   "outputs": [
    {
     "name": "stdout",
     "output_type": "stream",
     "text": [
      "404\n"
     ]
    }
   ],
   "source": [
    "file_url = 'https://www.sifma.org/wp-content/uploads/2017/06/sf-global-cdo-sifma.xls'\n",
    "file_name = file_url.split('/')[-1]\n",
    "\n",
    "r = requests.get(file_url, stream=True)\n",
    "if r.status_code == 200:\n",
    "    with open(file_name, 'wb') as f:\n",
    "        r.raw.decode_content = True\n",
    "        shutil.copyfileobj(r.raw, f)\n",
    "        \n",
    "else:\n",
    "    print(r.status_code)"
   ]
  },
  {
   "cell_type": "markdown",
   "metadata": {},
   "source": [
    "## US Agency Issuance and Outstanding\t\t\t\t\t\t"
   ]
  },
  {
   "cell_type": "code",
   "execution_count": 17,
   "metadata": {},
   "outputs": [],
   "source": [
    "file_name = 'sf-us-agency-mbs-sifma.xlsx'"
   ]
  },
  {
   "cell_type": "markdown",
   "metadata": {},
   "source": [
    "### US Agency MBS & CMO Issuance"
   ]
  },
  {
   "cell_type": "code",
   "execution_count": 18,
   "metadata": {},
   "outputs": [],
   "source": [
    "try:\n",
    "    sheet_name='US Agency MBS & CMO Issuance'\n",
    "    df = pd.read_excel('../xslx/'+file_name,sheet_name=sheet_name,skiprows=3)\n",
    "    df = df.rename(columns={'Fannie Mae':'MBS Fannie Mae',\n",
    "                            'Freddie Mac':'MBS Freddie Mac',\n",
    "                            'Ginnie Mae':'MBS Ginnie Mae',\n",
    "                            'Total':'MBS Total',\n",
    "                            'Fannie Mae3':'CMO Fannie Mae',\n",
    "                            'Freddie Mac.1':'CMO Freddie Mac',\n",
    "                            'Ginnie Mae.1':'CMO Ginnie Mae',\n",
    "                            'Total.1':'CMO Total',\n",
    "                            'TOTAL':'Total'})\n",
    "\n",
    "    for i in df.index:\n",
    "        if type(df.loc[i,'Year'])==str:\n",
    "            df.loc[i,'Year']=np.nan\n",
    "\n",
    "    df = df.drop(columns=['Unnamed: 5','Unnamed: 10']).dropna(how='all').set_index('Year')\n",
    "    df.index = df.index.astype(int)\n",
    "    df.to_csv('../csv/'+file_name.split('.')[0]+' - '+sheet_name+'.csv')\n",
    "\n",
    "except:\n",
    "    print('\"'+file_name+'\" does not exist')"
   ]
  },
  {
   "cell_type": "markdown",
   "metadata": {},
   "source": [
    "### US Agency MBS Outstanding"
   ]
  },
  {
   "cell_type": "code",
   "execution_count": 19,
   "metadata": {},
   "outputs": [],
   "source": [
    "try:\n",
    "    sheet_name='US Agency MBS Outstanding'\n",
    "    df = pd.read_excel('../xslx/'+file_name,sheet_name=sheet_name,skiprows=4)\n",
    "\n",
    "    df = df[['Y','Q','FNMA','FHLMC','GNMA','TOTAL']]\n",
    "\n",
    "\n",
    "    df = df.rename(columns={'Y':'Year',\n",
    "                            'FNMA':'Fannie Mae',\n",
    "                            'FHLMC':'Freddie Mac',\n",
    "                            'GNMA':'Ginnie Mae',\n",
    "                            'TOTAL':'Total'})\n",
    "\n",
    "    for i in df.index:\n",
    "        if pd.isna(df.loc[i,'Q']):\n",
    "            df = df.drop(index=i)\n",
    "\n",
    "        elif pd.isna(df.loc[i,'Year']):\n",
    "            df.loc[i,'Year'] = df.loc[i-1,'Year']\n",
    "\n",
    "    df = df.groupby('Year').sum()\n",
    "    df.index = df.index.astype(int)\n",
    "\n",
    "    df.to_csv('../csv/'+file_name.split('.')[0]+' - '+sheet_name+'.csv')\n",
    "\n",
    "except:\n",
    "    print('\"'+file_name+'\" does not exist')"
   ]
  },
  {
   "cell_type": "markdown",
   "metadata": {},
   "source": [
    "## Remove Excel files"
   ]
  },
  {
   "cell_type": "code",
   "execution_count": 20,
   "metadata": {},
   "outputs": [],
   "source": [
    "for file in os.listdir():\n",
    "    if file.endswith('.xls'):\n",
    "        os.remove(file)"
   ]
  }
 ],
 "metadata": {
  "kernelspec": {
   "display_name": "Python 3",
   "language": "python",
   "name": "python3"
  },
  "language_info": {
   "codemirror_mode": {
    "name": "ipython",
    "version": 3
   },
   "file_extension": ".py",
   "mimetype": "text/x-python",
   "name": "python",
   "nbconvert_exporter": "python",
   "pygments_lexer": "ipython3",
   "version": "3.7.3"
  }
 },
 "nbformat": 4,
 "nbformat_minor": 2
}
