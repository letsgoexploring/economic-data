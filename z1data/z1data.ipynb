{
 "cells": [
  {
   "cell_type": "code",
   "execution_count": 13,
   "metadata": {
    "collapsed": false
   },
   "outputs": [],
   "source": [
    "from __future__ import division\n",
    "from lxml import etree\n",
    "import numpy as np\n",
    "import matplotlib.pyplot as plt\n",
    "import pandas as pd\n",
    "import datetime\n",
    "import requests\n",
    "import zipfile\n",
    "import os\n",
    "import runProcs\n",
    "%matplotlib inline"
   ]
  },
  {
   "cell_type": "code",
   "execution_count": 14,
   "metadata": {
    "collapsed": false
   },
   "outputs": [],
   "source": [
    "# 0. Define a functions for managing parsed z1 data\n",
    "\n",
    "# 0.1 Create a searchable legend in csv format\n",
    "def createLegend(root):\n",
    "\n",
    "    legend_df = pd.DataFrame(columns=['Series Name','Description','Frequency','Start','End'])\n",
    "    x = 0\n",
    "\n",
    "    for levelA in root:\n",
    "        for levelB in levelA[4:-1]:\n",
    "            entry = []\n",
    "            ident = levelB.get('SERIES_NAME')\n",
    "            freq = ident[-1]\n",
    "            entry.append(ident)\n",
    "            for levelC in levelB:\n",
    "                for n,levelD in enumerate(levelC):\n",
    "                    if n == 0:\n",
    "                        entry.append(levelD[1].text)\n",
    "                        entry.append(freq)      \n",
    "            for levelC in [levelB[1],levelB[-1]]:\n",
    "                d= levelC.get('TIME_PERIOD')\n",
    "                d= datetime.datetime.strptime(d, '%Y-%m-%d').strftime('%m-%d-%Y')\n",
    "                entry.append(d)\n",
    "\n",
    "            legend_df.loc[x] = entry\n",
    "            x+=1\n",
    "            \n",
    "    legend_df.to_csv('z1Legend.csv')\n",
    "\n",
    "    return legend_df\n",
    "\n",
    "# 0.2 Create a Pandas dataframe for the z1 series with code: name \n",
    "def getSeries(name):\n",
    "    \n",
    "    dates = []\n",
    "    value= np.array([])\n",
    "    for levelA in root:\n",
    "        for levelB in levelA:\n",
    "            ident = levelB.get('SERIES_NAME')\n",
    "            if ident in [name]:\n",
    "                for levelC in levelB:\n",
    "                    for n,levelD in enumerate(levelC):\n",
    "                        if n == 0:\n",
    "                            description = levelD[1].text\n",
    "\n",
    "                for levelC in levelB[1:]:\n",
    "                    v = levelC.get('OBS_VALUE')\n",
    "                    d= levelC.get('TIME_PERIOD')\n",
    "                    dates = np.append(dates,d)\n",
    "                    value = np.append(value,float(v))\n",
    "\n",
    "    for n,d in enumerate(dates):\n",
    "        dates[n]= datetime.datetime.strptime(d,'%Y-%m-%d').strftime('%m-%d-%Y')\n",
    "        \n",
    "    df = pd.DataFrame(value,index=dates,columns = [description])\n",
    "    return df\n",
    "\n",
    "# 0.3 Create a Pandas dataframe for the z1 series with codes in dataList\n",
    "def getDataSet(dataList):\n",
    "    df = pd.DataFrame([])\n",
    "    for name in dataList:\n",
    "        newSeries=getSeries(name)\n",
    "        df = pd.concat([df,newSeries],axis=1, join_axes=[newSeries.index])\n",
    "    return df"
   ]
  },
  {
   "cell_type": "code",
   "execution_count": 15,
   "metadata": {
    "collapsed": false
   },
   "outputs": [],
   "source": [
    "# 1. Download .zip file and extract .xml (and other contents if necessary)\n",
    "\n",
    "\n",
    "# 1.1 download\n",
    "url = \"http://www.federalreserve.gov/datadownload/Output.aspx?rel=Z1&filetype=zip\"\n",
    "\n",
    "file_name = \"FRB_Z1.zip\"\n",
    "u = requests.get(url)\n",
    "\n",
    "with open(file_name, 'wb') as f:\n",
    "    for chunk in u.iter_content(chunk_size=1024): \n",
    "        if chunk: # filter out keep-alive new chunks\n",
    "            f.write(chunk)\n",
    "            f.flush()\n",
    "f.close()\n",
    "\n",
    "# 1.2 extract\n",
    "\n",
    "fh = open('FRB_Z1.zip', 'rb')\n",
    "z = zipfile.ZipFile(fh)\n",
    "for name in ['Z1_data.xml']:\n",
    "    outpath = \"\"\n",
    "    z.extract(name, outpath)\n",
    "fh.close()\n",
    "\n",
    "# with zipfile.ZipFile('FRB_Z1.zip', \"r\") as z:\n",
    "#     z.extractall()\n",
    "\n",
    "# 1.3 Remove the zip file\n",
    "os.remove('FRB_Z1.zip')"
   ]
  },
  {
   "cell_type": "code",
   "execution_count": 16,
   "metadata": {
    "collapsed": false
   },
   "outputs": [],
   "source": [
    "# 2. Import the xml data and create a legend\n",
    "\n",
    "# 2.2 parse\n",
    "tree = etree.parse(\"Z1_data.xml\")\n",
    "root = tree.getroot()\n",
    "\n",
    "# 2.2 create a legend in csv format\n",
    "# legend= createLegend(root)"
   ]
  },
  {
   "cell_type": "code",
   "execution_count": 17,
   "metadata": {
    "collapsed": false
   },
   "outputs": [
    {
     "data": {
      "text/plain": [
       "<matplotlib.axes._subplots.AxesSubplot at 0x10ebb8b00>"
      ]
     },
     "execution_count": 17,
     "metadata": {},
     "output_type": "execute_result"
    },
    {
     "data": {
      "image/png": "[encoded data removed]",
      "text/plain": [
       "<matplotlib.figure.Figure at 0x1086e3358>"
      ]
     },
     "metadata": {},
     "output_type": "display_data"
    }
   ],
   "source": [
    "# 3. Sample plot: US T-bill volume\n",
    "tBills = getSeries('FL313161113.A')\n",
    "tBills.plot(x_compat=True)"
   ]
  },
  {
   "cell_type": "code",
   "execution_count": 18,
   "metadata": {
    "collapsed": false
   },
   "outputs": [],
   "source": [
    "# 4. export the notebook\n",
    "runProcs.exportNb('z1data')"
   ]
  }
 ],
 "metadata": {
  "kernelspec": {
   "display_name": "Python 3",
   "language": "python",
   "name": "python3"
  },
  "language_info": {
   "codemirror_mode": {
    "name": "ipython",
    "version": 3
   },
   "file_extension": ".py",
   "mimetype": "text/x-python",
   "name": "python",
   "nbconvert_exporter": "python",
   "pygments_lexer": "ipython3",
   "version": "3.4.3"
  }
 },
 "nbformat": 4,
 "nbformat_minor": 0
}
