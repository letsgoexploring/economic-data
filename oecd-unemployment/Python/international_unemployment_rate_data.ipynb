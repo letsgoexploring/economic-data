{
 "cells": [
  {
   "cell_type": "markdown",
   "metadata": {},
   "source": [
    "# International Unemployment Rate Data\n",
    "\n",
    "Download all available harmonized unemployment rate data from https://data.oecd.org/unemp/harmonised-unemployment-rate-hur.htm"
   ]
  },
  {
   "cell_type": "code",
   "execution_count": 1,
   "metadata": {},
   "outputs": [],
   "source": [
    "import pandas as pd"
   ]
  },
  {
   "cell_type": "code",
   "execution_count": 2,
   "metadata": {},
   "outputs": [],
   "source": [
    "# Current file name\n",
    "current_file_name = 'DP_LIVE_04012022180535994.csv'\n",
    "\n",
    "# Country abbreviations\n",
    "abbreviations = {'AUS':'Australia',\n",
    "                 'AUT':'Austria',\n",
    "                 'BEL':'Belgium',\n",
    "                 'BRA':'Brazil',\n",
    "                 'CAN':'Canada',\n",
    "                 'CHL':'Chile',\n",
    "                 'COL':'Colombia',\n",
    "                 'CRI':'Costa Rica',\n",
    "                 'CZE':'Czech Republic',\n",
    "                 'CHE':'Switzerland',\n",
    "                 'DEU':'Germany',\n",
    "                 'DNK':'Denmark',\n",
    "                 'EA19':'Euro Area (19 countries)',\n",
    "                 'ESP':'Spain',\n",
    "                 'EST':'Estonia',\n",
    "                 'EU28':'European Union (28 countries)',\n",
    "                 'EU27_2020':'European Union (27 countries)',\n",
    "                 'FIN':'Finland',\n",
    "                 'FRA':'France',\n",
    "                 'G-7':'G7',\n",
    "                 'GBR':'Great Britain',\n",
    "                 'GRC':'Greece',\n",
    "                 'HUN':'Hungary',\n",
    "                 'IDN':'Indonesia',\n",
    "                 'IRL':'Ireland',\n",
    "                 'ISL':'Iceland',\n",
    "                 'ISR':'Israel',\n",
    "                 'ITA':'Italy',\n",
    "                 'JPN':'Japan',\n",
    "                 'KOR':'South Korea',\n",
    "                 'LTU':'Lithuania',\n",
    "                 'LUX':'Luxemburg',\n",
    "                 'LVA':'Latvia',\n",
    "                 'MEX':'Mexico',\n",
    "                 'NLD':'Netherlands',\n",
    "                 'NOR':'Norway',\n",
    "                 'NZL':'New Zealand',\n",
    "                 'OECD':'OECD',\n",
    "                 'POL':'Poland',\n",
    "                 'PRT':'Portugal',\n",
    "                 'RUS':'Russia',\n",
    "                 'SVK':'Slovak Republic',\n",
    "                 'SVN':'Slovenia',\n",
    "                 'SWE':'Sweden',\n",
    "                 'TUR':'Turkey',\n",
    "                 'USA':'United States',\n",
    "                 'ZAF':'South Africa'\n",
    "                }"
   ]
  },
  {
   "cell_type": "code",
   "execution_count": 3,
   "metadata": {},
   "outputs": [],
   "source": [
    "# Import data\n",
    "data = pd.read_csv('../csv/'+current_file_name,low_memory=False)\n",
    "\n",
    "# Manage data\n",
    "data = data[(data.FREQUENCY=='A') & (data.SUBJECT=='TOT')]\n",
    "\n",
    "# Construct dataset\n",
    "df = pd.DataFrame()\n",
    "\n",
    "for code in data.LOCATION.sort_values().unique():\n",
    "    \n",
    "    values = data[data.LOCATION==code].Value\n",
    "    index = pd.to_datetime(data[data.LOCATION==code].TIME.astype(str))\n",
    "\n",
    "    temp_series = pd.Series(values)\n",
    "    temp_series.index=index\n",
    "\n",
    "    df[abbreviations[code]] = temp_series\n",
    "\n",
    "# Rename index column\n",
    "df.index.name='Date'\n",
    "\n",
    "# Export data\n",
    "df.to_csv('../csv/international_unemployment_rate_data.csv')"
   ]
  }
 ],
 "metadata": {
  "kernelspec": {
   "display_name": "Python 3 (ipykernel)",
   "language": "python",
   "name": "python3"
  },
  "language_info": {
   "codemirror_mode": {
    "name": "ipython",
    "version": 3
   },
   "file_extension": ".py",
   "mimetype": "text/x-python",
   "name": "python",
   "nbconvert_exporter": "python",
   "pygments_lexer": "ipython3",
   "version": "3.11.5"
  }
 },
 "nbformat": 4,
 "nbformat_minor": 2
}
