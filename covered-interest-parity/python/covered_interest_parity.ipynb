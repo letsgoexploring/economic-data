{
 "cells": [
  {
   "cell_type": "code",
   "execution_count": 1,
   "metadata": {},
   "outputs": [
    {
     "ename": "ModuleNotFoundError",
     "evalue": "No module named 'quandl'",
     "output_type": "error",
     "traceback": [
      "\u001b[0;31m---------------------------------------------------------------------------\u001b[0m",
      "\u001b[0;31mModuleNotFoundError\u001b[0m                       Traceback (most recent call last)",
      "\u001b[0;32m/var/folders/36/tyk09l294j7b2stxnfxym2200000gp/T/ipykernel_8637/172338987.py\u001b[0m in \u001b[0;36m<module>\u001b[0;34m\u001b[0m\n\u001b[1;32m      3\u001b[0m \u001b[0;32mimport\u001b[0m \u001b[0mmatplotlib\u001b[0m\u001b[0;34m.\u001b[0m\u001b[0mdates\u001b[0m \u001b[0;32mas\u001b[0m \u001b[0mdts\u001b[0m\u001b[0;34m\u001b[0m\u001b[0;34m\u001b[0m\u001b[0m\n\u001b[1;32m      4\u001b[0m \u001b[0;32mimport\u001b[0m \u001b[0mpandas\u001b[0m \u001b[0;32mas\u001b[0m \u001b[0mpd\u001b[0m\u001b[0;34m\u001b[0m\u001b[0;34m\u001b[0m\u001b[0m\n\u001b[0;32m----> 5\u001b[0;31m \u001b[0;32mimport\u001b[0m \u001b[0mquandl\u001b[0m \u001b[0;32mas\u001b[0m \u001b[0mQuandl\u001b[0m\u001b[0;34m\u001b[0m\u001b[0;34m\u001b[0m\u001b[0m\n\u001b[0m\u001b[1;32m      6\u001b[0m \u001b[0;32mfrom\u001b[0m \u001b[0mlxml\u001b[0m \u001b[0;32mimport\u001b[0m \u001b[0metree\u001b[0m\u001b[0;34m\u001b[0m\u001b[0;34m\u001b[0m\u001b[0m\n\u001b[1;32m      7\u001b[0m \u001b[0;32mimport\u001b[0m \u001b[0mrequests\u001b[0m\u001b[0;34m\u001b[0m\u001b[0;34m\u001b[0m\u001b[0m\n",
      "\u001b[0;31mModuleNotFoundError\u001b[0m: No module named 'quandl'"
     ]
    }
   ],
   "source": [
    "import numpy as np\n",
    "import matplotlib.pyplot as plt\n",
    "import matplotlib.dates as dts\n",
    "import pandas as pd\n",
    "import quandl as Quandl\n",
    "from lxml import etree\n",
    "import requests\n",
    "import fredpy as fp\n",
    "plt.style.use('classic')\n",
    "%matplotlib inline"
   ]
  },
  {
   "cell_type": "markdown",
   "metadata": {},
   "source": [
    "# Covered interest parity\n",
    "\n",
    "Covered interest parity is a no-arbitrage condition in foreign exchange markets. In terms of US dollars and British pounds, the covered interest parity condition can be expressed as:\n",
    "    $$\n",
    "    1+i_{\\unicode{x24}}  = (1+i_{\\unicode{xA3}}) \\cdot \\frac{F_{\\unicode{x24}/\\unicode{xA3}}}{E_{\\unicode{x24}/\\unicode{xA3}}}\n",
    "    $$\n",
    "Where $i_{\\unicode{x24}}$ is the risk-free interest rate on dollars, $i_{\\unicode{xA3}}$ is the risk-free intrest rate on pounds, \n",
    "$E_{\\unicode{x24}/\\unicode{xA3}}$ is the current spot rate in terms of dollars per pound, and $F_{\\unicode{x24}/\\unicode{xA3}}$ is the forward exchagne rate. The left-side of the equation is the risk-free return on dollars and the right-side is the risk-free return on pounds expressed in dollars. Equilibrium requires equality between the two returns because otherwise a person could earn risk-free profit by borrowing on one currency and saving in another.\n",
    "\n",
    "Historical data on forward exchange rates is not readily available for many countries. This program uses data from [Quandl](https://www.quandl.com/) and from the [Federal Reserve Bank of New York](https://www.newyorkfed.org/) to obtain interest, spot exchange, and forward exchange rate data for the purposes of evaluating the covered interest parity condition.  All intrest rates used below are 6-month Libor rates and all forward rates are for transactions to be executed in 6-months and all exchange rates are expressed in terms of US dollars per unit of foreign currency.\n",
    "\n",
    "* Yen (daily)\n",
    "* Euro (daily)\n",
    "* Pound (monthly)\n",
    "* Swiss franc (monthly)\n",
    "\n",
    "Note: since the interest rates are expressed in annualized terms, the interest rate terms in the covered interest parity condition must be divided by 2:\n",
    "    $$\n",
    "    1+\\frac{i_{\\unicode{x24}}}{2}  = \\left(1+\\frac{i_{\\unicode{xA3}}}{2} \\right) \\cdot \\frac{F_{\\unicode{x24}/\\unicode{xA3}}}{E_{\\unicode{x24}/\\unicode{xA3}}}\n",
    "    $$\n",
    "    \n",
    "This program exports two csv files; one for the daily euro and yen data and another for the monthly pound and franc data:\n",
    "\n",
    "* cipEuroYenDaily.csv\n",
    "* cipPoundFrancMonthly.csv"
   ]
  },
  {
   "cell_type": "markdown",
   "metadata": {},
   "source": [
    "## Daily CIP data from FRBNY"
   ]
  },
  {
   "cell_type": "code",
   "execution_count": null,
   "metadata": {},
   "outputs": [],
   "source": [
    "# Function for downloading historical data in .xml format from FRBNY\n",
    "\n",
    "def download_xml(url,file_name):\n",
    "\n",
    "    u = requests.get(url)\n",
    "\n",
    "    with open(file_name, 'wb') as f:\n",
    "        for chunk in u.iter_content(chunk_size=1024): \n",
    "            if chunk: # filter out keep-alive new chunks\n",
    "                f.write(chunk)\n",
    "                f.flush()\n",
    "    f.close()\n",
    "    \n",
    "# Function for parsing .xml data and extracting data values and dates\n",
    "    \n",
    "def get_data_from_xml(file_name,column_name):\n",
    "    \n",
    "    tree = etree.parse(file_name)\n",
    "    root = tree.getroot()\n",
    "    dates=[]\n",
    "    values=[]\n",
    "    y = root[1][0]\n",
    "    for i, vals in enumerate(y):\n",
    "        if i>0:\n",
    "            try:\n",
    "                float(vals.getchildren()[1].text)\n",
    "                dates.append(vals.getchildren()[0].text)\n",
    "                values.append(float(vals.getchildren()[1].text))\n",
    "            except:\n",
    "                print('date with missing value in '+file_name+':',vals.getchildren()[0].text)\n",
    "    \n",
    "    frame = pd.DataFrame({column_name:values},index=pd.to_datetime(dates))\n",
    "    return frame"
   ]
  },
  {
   "cell_type": "code",
   "execution_count": null,
   "metadata": {},
   "outputs": [],
   "source": [
    "# Download .xml files from FRBNY\n",
    "\n",
    "download_xml(url='https://www.newyorkfed.org/medialibrary/media/xml/data/fx/EUR10.xml',file_name = '../xml/euro_spot.xml')\n",
    "download_xml(url='https://www.newyorkfed.org/medialibrary/media/xml/data/fx/EUR10Forward6.xml',file_name = '../xml/euro_forward.xml')\n",
    "download_xml(url='https://www.newyorkfed.org/medialibrary/media/xml/data/fx/JPY10.xml',file_name='../xml/yen_spot.xml')\n",
    "download_xml(url='https://www.newyorkfed.org/medialibrary/media/xml/data/fx/JPY10Forward6.xml',file_name='../xml/yen_forward.xml')"
   ]
  },
  {
   "cell_type": "code",
   "execution_count": null,
   "metadata": {},
   "outputs": [],
   "source": [
    "# Create data frames\n",
    "\n",
    "euro_spot_frame = get_data_from_xml('../xml/euro_spot.xml','euro spot')\n",
    "euro_forward_frame = get_data_from_xml('../xml/euro_forward.xml','euro forward')\n",
    "yen_spot_frame = get_data_from_xml('../xml/yen_spot.xml','yen spot')\n",
    "yen_forward_frame = get_data_from_xml('../xml/yen_forward.xml','yen forward')\n",
    "\n",
    "euro_rates = pd.concat([euro_spot_frame,euro_forward_frame],axis=1).dropna()\n",
    "yen_rates = pd.concat([1/yen_spot_frame,1/yen_forward_frame],axis=1).dropna()\n",
    "rates = pd.concat([yen_rates,euro_rates],axis=1).dropna()"
   ]
  },
  {
   "cell_type": "code",
   "execution_count": null,
   "metadata": {},
   "outputs": [],
   "source": [
    "# Download interest rate data from Quandl\n",
    "yen_libor = Quandl.get('FRED/JPY6MTD156N', collapse='daily',authtoken=\"QqLL1AFCjc31_MVo4qsU\")\n",
    "euro_libor = Quandl.get('FRED/EUR6MTD156N', collapse='daily',authtoken=\"QqLL1AFCjc31_MVo4qsU\")\n",
    "dollar_libor = pd.DataFrame(fp.series('USD6MTD156N').data)\n",
    "dollar_libor.index.name = 'DATE'\n",
    "\n",
    "euro_libor.columns = ['euro interest']\n",
    "yen_libor.columns = ['yen interest']\n",
    "dollar_libor.columns = ['dollar interest']"
   ]
  },
  {
   "cell_type": "code",
   "execution_count": null,
   "metadata": {},
   "outputs": [],
   "source": [
    "# Organize data into DataFrames\n",
    "yen_frame = pd.concat([yen_rates,yen_libor,dollar_libor],axis=1).dropna()\n",
    "euro_frame = pd.concat([euro_rates,euro_libor,dollar_libor],axis=1).dropna()\n",
    "\n",
    "full_frame = pd.concat([euro_rates,euro_libor,yen_rates,yen_libor,dollar_libor],axis=1).dropna()\n",
    "\n",
    "# Export data to .csv\n",
    "full_frame[['euro spot', 'euro forward', 'euro interest', 'yen spot', 'yen forward','yen interest', 'dollar interest']].to_csv('../csv/cip_euro_yen_daily.csv')"
   ]
  },
  {
   "cell_type": "code",
   "execution_count": null,
   "metadata": {},
   "outputs": [],
   "source": [
    "# Construct dollar-denominated return on euros\n",
    "i_euro = 200*(1+euro_frame['euro interest']/200)*euro_frame['euro forward']/euro_frame['euro spot'] - 200\n",
    "\n",
    "# Plot\n",
    "fig = plt.figure(figsize=(7.5, 4.5))\n",
    "ax = fig.add_subplot(2,1,1)\n",
    "ax.plot_date(euro_frame.index,euro_frame['dollar interest'],'-',lw=3,alpha = 0.6,label='dollar interest')\n",
    "ax.plot_date(euro_frame.index,i_euro,'-',lw=3,alpha = 0.6,label='euro interest')\n",
    "ax.set_ylabel('Percent')\n",
    "ax.grid()\n",
    "\n",
    "ax.legend(bbox_to_anchor=(0., 1.02, 1., .102), loc=3,ncol=4, mode=\"expand\", borderaxespad=0.)\n",
    "\n",
    "ax = fig.add_subplot(2,1,2)\n",
    "ax.plot_date(euro_frame.index,euro_frame['dollar interest']-i_euro,'-r',lw=3,alpha = 0.6)\n",
    "ax.set_title('Interest on dollars less interest on euros')\n",
    "ax.set_ylabel('Percent')\n",
    "ax.grid()\n",
    "\n",
    "fig.autofmt_xdate()\n",
    "plt.tight_layout()\n",
    "plt.savefig('../png/fig_dollar_euro_cip.png',bbox_inches='tight',dpi=120)"
   ]
  },
  {
   "cell_type": "code",
   "execution_count": null,
   "metadata": {},
   "outputs": [],
   "source": [
    "# Construct dollar-denominated return on euros\n",
    "i_yen = 200*(1+yen_frame['yen interest']/200)*yen_frame['yen forward']/yen_frame['yen spot'] - 200\n",
    "\n",
    "# Plot\n",
    "fig = plt.figure(figsize=(7.5, 4.5))\n",
    "ax = fig.add_subplot(2,1,1)\n",
    "ax.plot_date(yen_frame.index,yen_frame['dollar interest'],'-',lw=3,alpha = 0.6,label='dollar interest')\n",
    "ax.plot_date(yen_frame.index,i_yen,'-',lw=3,alpha = 0.6,label='yen interest')\n",
    "ax.set_ylabel('Percent')\n",
    "ax.grid()\n",
    "\n",
    "ax.legend(bbox_to_anchor=(0., 1.02, 1., .102), loc=3,ncol=4, mode=\"expand\", borderaxespad=0.)\n",
    "\n",
    "ax = fig.add_subplot(2,1,2)\n",
    "ax.plot_date(yen_frame.index,yen_frame['dollar interest']-i_yen,'-r',lw=3,alpha = 0.6)\n",
    "ax.set_title('Interest on dollars less interest on yen')\n",
    "ax.set_ylabel('Percent')\n",
    "ax.grid()\n",
    "\n",
    "fig.autofmt_xdate()\n",
    "plt.tight_layout()\n",
    "plt.savefig('../png/fig_dollar_yen_cip.png',bbox_inches='tight',dpi=120)"
   ]
  },
  {
   "cell_type": "markdown",
   "metadata": {},
   "source": [
    "# Monthly CIP data from Quandl"
   ]
  },
  {
   "cell_type": "code",
   "execution_count": null,
   "metadata": {},
   "outputs": [],
   "source": [
    "# Download pound data from Quandl and organize\n",
    "pound_forward = Quandl.get('BOE/XUMADS6', collapse='monthly',trim_start='1994-01-31',authtoken=\"QqLL1AFCjc31_MVo4qsU\")\n",
    "pound_libor = Quandl.get('BOE/IUMAVSMA', collapse='monthly',trim_start='1994-01-31',authtoken=\"QqLL1AFCjc31_MVo4qsU\")\n",
    "pound_spot = Quandl.get('BOE/XUMAUSS', collapse='monthly',trim_start='1994-01-31',authtoken=\"QqLL1AFCjc31_MVo4qsU\")\n",
    "dollar_libor = Quandl.get('BCB/3841', collapse='monthly',trim_start='1994-01-31',authtoken=\"QqLL1AFCjc31_MVo4qsU\")\n",
    "\n",
    "pound_forward.columns = ['pound forward']\n",
    "pound_spot.columns = ['pound spot']\n",
    "pound_libor.columns = ['pound interest']\n",
    "dollar_libor.columns = ['dollar interest']\n",
    "\n",
    "pound_frame = pd.concat([pound_forward,pound_spot,pound_libor,dollar_libor],axis=1).dropna()"
   ]
  },
  {
   "cell_type": "code",
   "execution_count": null,
   "metadata": {},
   "outputs": [],
   "source": [
    "# Download franc data from Quandl and organize\n",
    "try:\n",
    "    franc_forward = Quandl.get('SNB/G3_M1_M', collapse='monthly',trim_start='1994-01-31',authtoken=\"QqLL1AFCjc31_MVo4qsU\")\n",
    "    dollar_libor = Quandl.get('BCB/3841', collapse='monthly',trim_start='1994-01-31',authtoken=\"QqLL1AFCjc31_MVo4qsU\")\n",
    "    franc_spot = Quandl.get('BOE/XUMASFD', collapse='monthly',trim_start='1994-01-31',authtoken=\"QqLL1AFCjc31_MVo4qsU\")\n",
    "    franc_libor = Quandl.get('BCB/3843', collapse='monthly',trim_start='1994-01-31',authtoken=\"QqLL1AFCjc31_MVo4qsU\")\n",
    "\n",
    "    franc_forward = pd.DataFrame({'franc forward':1/franc_forward['6-month forward rate'].values},index = franc_forward['6-month forward rate'].index)\n",
    "    franc_spot = 1/franc_spot\n",
    "\n",
    "    franc_forward.columns = ['franc forward']\n",
    "    franc_spot.columns = ['franc spot']\n",
    "    franc_libor.columns = ['franc interest']\n",
    "    dollar_libor.columns = ['dollar interest']\n",
    "\n",
    "    franc_frame = pd.concat([franc_forward,franc_spot,franc_libor,dollar_libor],axis=1).dropna()\n",
    "    \n",
    "except:\n",
    "    franc_frame = pd.read_csv('../csv_saved/cip_franc_monthly.csv',index_col=0,parse_dates=True)"
   ]
  },
  {
   "cell_type": "code",
   "execution_count": null,
   "metadata": {},
   "outputs": [],
   "source": [
    "# Pull Quandl data together and export to .csv\n",
    "full_frame = pd.concat([pound_frame,franc_frame],axis=1)\n",
    "\n",
    "full_frame[['pound spot', 'pound forward', 'pound interest', 'franc spot', 'franc forward','franc interest', 'dollar interest']].to_csv('../csv/cip_pound_franc_monthly.csv')\n"
   ]
  },
  {
   "cell_type": "code",
   "execution_count": null,
   "metadata": {},
   "outputs": [],
   "source": [
    "# Construct dollar-denominated return on pounds\n",
    "i_pound = 200*(1+pound_frame['pound interest']/200)*pound_frame['pound forward']/pound_frame['pound spot'] - 200\n",
    "\n",
    "# Plot\n",
    "fig = plt.figure(figsize=(7.5, 4.5))\n",
    "ax = fig.add_subplot(2,1,1)\n",
    "ax.plot_date(pound_frame.index,pound_frame['dollar interest'],'-',lw=3,alpha = 0.6,label='dollar interest')\n",
    "ax.plot_date(pound_frame.index,i_pound,'-',lw=3,alpha = 0.6,label='pound interest')\n",
    "ax.set_ylabel('Percent')\n",
    "ax.grid()\n",
    "\n",
    "ax.legend(bbox_to_anchor=(0., 1.02, 1., .102), loc=3,ncol=4, mode=\"expand\", borderaxespad=0.)\n",
    "\n",
    "ax = fig.add_subplot(2,1,2)\n",
    "ax.plot_date(pound_frame.index,pound_frame['dollar interest']-i_pound,'-r',lw=3,alpha = 0.6)\n",
    "ax.set_title('Interest on dollars less interest on pounds')\n",
    "ax.set_ylabel('Percent')\n",
    "ax.grid()\n",
    "\n",
    "fig.autofmt_xdate()\n",
    "plt.tight_layout()\n",
    "plt.savefig('../png/fig_dollar_pound_cip.png',bbox_inches='tight',dpi=120)"
   ]
  },
  {
   "cell_type": "code",
   "execution_count": null,
   "metadata": {},
   "outputs": [],
   "source": [
    "# Construct dollar-denominated return on francs\n",
    "i_franc = 200*(1+franc_frame['franc interest']/200)*franc_frame['franc forward']/franc_frame['franc spot'] - 200\n",
    "\n",
    "# Plot\n",
    "fig = plt.figure(figsize=(7.5, 4.5))\n",
    "ax = fig.add_subplot(2,1,1)\n",
    "ax.plot_date(franc_frame.index,franc_frame['dollar interest'],'-',lw=3,alpha = 0.6,label='dollar interest')\n",
    "ax.plot_date(franc_frame.index,i_franc,'-',lw=3,alpha = 0.6,label='franc interest')\n",
    "ax.set_ylabel('Percent')\n",
    "ax.grid()\n",
    "\n",
    "ax.legend(bbox_to_anchor=(0., 1.02, 1., .102), loc=3,ncol=4, mode=\"expand\", borderaxespad=0.)\n",
    "\n",
    "ax = fig.add_subplot(2,1,2)\n",
    "ax.plot_date(franc_frame.index,franc_frame['dollar interest']-i_franc,'-r',lw=3,alpha = 0.6)\n",
    "ax.set_title('Interest on dollars less interest on francs')\n",
    "ax.set_ylabel('Percent')\n",
    "ax.grid()\n",
    "\n",
    "fig.autofmt_xdate()\n",
    "plt.tight_layout()\n",
    "plt.savefig('../png/fig_dollar_franc_cip.png',bbox_inches='tight',dpi=120)"
   ]
  }
 ],
 "metadata": {
  "kernelspec": {
   "display_name": "Python 3 (ipykernel)",
   "language": "python",
   "name": "python3"
  },
  "language_info": {
   "codemirror_mode": {
    "name": "ipython",
    "version": 3
   },
   "file_extension": ".py",
   "mimetype": "text/x-python",
   "name": "python",
   "nbconvert_exporter": "python",
   "pygments_lexer": "ipython3",
   "version": "3.9.13"
  }
 },
 "nbformat": 4,
 "nbformat_minor": 1
}
